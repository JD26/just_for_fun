{
 "cells": [
  {
   "cell_type": "markdown",
   "metadata": {},
   "source": [
    "# Just for fun"
   ]
  },
  {
   "cell_type": "code",
   "execution_count": 1,
   "metadata": {},
   "outputs": [],
   "source": [
    "import sympy as sp\n",
    "sp.init_printing()"
   ]
  },
  {
   "cell_type": "markdown",
   "metadata": {},
   "source": [
    "## dirichlet_subdomain\n",
    "We solve the Dirichlet problem\n",
    "$$\n",
    "\\nabla \\cdot (\\sigma \\nabla u)  = 1 \\quad x\\in\\Omega,\\quad u = 0 \\quad x\\in\\partial\\Omega\n",
    "$$\n",
    "in the two-dimensional domain $\\Omega$ determined by the parametric curve\n",
    "$$\n",
    "t \\mapsto (\\cos t, \\sin t+ \\frac{\\sin^2 t}{2})\n",
    "$$\n",
    "for $t\\in[0,2\\pi)$. We use `Gmsh` to generate the mesh. The coefficient $\\sigma$ takes the value $\\sigma=1$ on the subdomain $\\Omega_0 \\subset \\Omega$, and $\\sigma = 4$ on $\\Omega \\setminus \\Omega_0$. The subdomain $\\Omega_0$ is a ball of radius $\\sqrt{0.2}$ and center $(0,0)$. "
   ]
  },
  {
   "cell_type": "markdown",
   "metadata": {},
   "source": [
    "## predefined_subdomain\n",
    "We solve the same problem that in `dirichlet_subdomain` but with a subdomain $\\Omega_0$ defined when $\\Omega$ is generated. More precisely, the implicit equation\n",
    "$$\n",
    "2(x^2 + y^2)^2 = x^3 + y^3\n",
    "$$\n",
    "defines the boundary of the subdomain $\\Omega_0$. This approach yields a more exact approximate solution."
   ]
  },
  {
   "cell_type": "markdown",
   "metadata": {},
   "source": [
    "## transport_equation\n",
    "We solve the transport equation\n",
    "$$\n",
    "\\phi_t (x,y,t)+\\theta(x,y)\\cdot\\nabla\\phi(x,y,t)=f(x,y)\n",
    "$$\n",
    "for $t\\in[0,T]$ and $x\\in\\Omega$, with $\\Omega$ being a two-dimensional ball. The vector field $\\theta$ is defined by $\\theta(x,y)=(-y,x)$. Thus, $\\theta \\cdot n =0$ on $\\partial\\Omega$. The _Backward Euler_ method is used to approximate the partial derivative with respect to $t$. The function$$\\phi(x,y,t)=1 + x^2 + \\alpha y^2 + \\beta t$$is used to verify the numerical method."
   ]
  },
  {
   "cell_type": "code",
   "execution_count": 3,
   "metadata": {},
   "outputs": [
    {
     "data": {
      "image/png": "[encoded data removed]",
      "text/latex": [
       "$\\displaystyle 2 \\alpha x y + \\beta - 2 x y$"
      ],
      "text/plain": [
       "2⋅α⋅x⋅y + β - 2⋅x⋅y"
      ]
     },
     "execution_count": 3,
     "metadata": {},
     "output_type": "execute_result"
    }
   ],
   "source": [
    "x, y, alpha, beta, t = sp.symbols('x y alpha beta t')\n",
    "\n",
    "# test function\n",
    "phi = 1 + x**2 + alpha * y**2 + beta * t\n",
    "\n",
    "phi_t = sp.diff(phi, t)\n",
    "phi_x = sp.diff(phi, x)\n",
    "phi_y = sp.diff(phi, y)\n",
    "\n",
    "# equation \\phi + \\theta \\cdot \\nabla \\phi\n",
    "# \\theta (x,y) = (-y,x)\n",
    "f = phi_t + (-y)*phi_x + x*phi_y\n",
    "f"
   ]
  },
  {
   "cell_type": "markdown",
   "metadata": {},
   "source": [
    "## eit_continuous_md"
   ]
  },
  {
   "cell_type": "code",
   "execution_count": 9,
   "metadata": {},
   "outputs": [
    {
     "data": {
      "image/png": "[encoded data removed]",
      "text/latex": [
       "$\\displaystyle \\left[ \\pi y \\cos{\\left(\\pi x \\right)} + \\sin{\\left(\\pi y \\right)}, \\  \\pi x \\cos{\\left(\\pi y \\right)} + \\sin{\\left(\\pi x \\right)}\\right]$"
      ],
      "text/plain": [
       "[π⋅y⋅cos(π⋅x) + sin(π⋅y), π⋅x⋅cos(π⋅y) + sin(π⋅x)]"
      ]
     },
     "metadata": {},
     "output_type": "display_data"
    },
    {
     "data": {
      "image/png": "[encoded data removed]",
      "text/latex": [
       "$\\displaystyle 2 x \\left(\\pi y \\cos{\\left(\\pi x \\right)} + \\sin{\\left(\\pi y \\right)}\\right) e^{- x^{2} - y^{2}} + \\pi^{2} x e^{- x^{2} - y^{2}} \\sin{\\left(\\pi y \\right)} + 2 y \\left(\\pi x \\cos{\\left(\\pi y \\right)} + \\sin{\\left(\\pi x \\right)}\\right) e^{- x^{2} - y^{2}} + \\pi^{2} y e^{- x^{2} - y^{2}} \\sin{\\left(\\pi x \\right)}$"
      ],
      "text/plain": [
       "                                  2    2            2    2                     ↪\n",
       "                               - x  - y     2    - x  - y                      ↪\n",
       "2⋅x⋅(π⋅y⋅cos(π⋅x) + sin(π⋅y))⋅ℯ          + π ⋅x⋅ℯ         ⋅sin(π⋅y) + 2⋅y⋅(π⋅x ↪\n",
       "\n",
       "↪                           2    2            2    2         \n",
       "↪                        - x  - y     2    - x  - y          \n",
       "↪ ⋅cos(π⋅y) + sin(π⋅x))⋅ℯ          + π ⋅y⋅ℯ         ⋅sin(π⋅x)"
      ]
     },
     "metadata": {},
     "output_type": "display_data"
    }
   ],
   "source": [
    "x, y = sp.symbols('x y')\n",
    "u = y*sp.sin(sp.pi*x) + x*sp.sin(sp.pi*y)\n",
    "sigma = sp.exp(-x**2-y**2)\n",
    "du = [sp.diff(u, x), sp.diff(u, y)]\n",
    "display(du)\n",
    "S = - (sp.diff(sigma*du[0],x)+sp.diff(sigma*du[1],y))\n",
    "display(S)"
   ]
  },
  {
   "cell_type": "markdown",
   "metadata": {},
   "source": [
    "## boundary_markers"
   ]
  },
  {
   "cell_type": "markdown",
   "metadata": {},
   "source": [
    "This code marks some parts of the boundary $\\partial \\Omega$ of a two dimensional domain determined by a set of vertices. We use the marks to integrate over such parts. Each mark identify a set of facets of $\\Omega$ (recall that the domain is a polygonal domain). So, the nodes defined in the facets are also marked. The integration is verified with the result given by the function `quad` of `scipy`."
   ]
  },
  {
   "cell_type": "code",
   "execution_count": 16,
   "metadata": {},
   "outputs": [
    {
     "name": "stdout",
     "output_type": "stream",
     "text": [
      "(1.3983824166381065, 1.5525163561825943e-14)\n",
      "(1.1202805088590209, 2.732174248949788e-12)\n"
     ]
    }
   ],
   "source": [
    "import scipy.integrate as integrate\n",
    "import numpy as np\n",
    "from sympy.utilities.lambdify import lambdify\n",
    "\n",
    "t = sp.symbols('t')\n",
    "rx = sp.cos(t)\n",
    "ry = sp.sin(t)+ ((sp.sin(t))**2)/2\n",
    "norm_r = sp.sqrt(sp.diff(rx, t)**2 + sp.diff(ry, t)**2)\n",
    "fr = rx + ry\n",
    "arg = lambdify(t, fr*norm_r)\n",
    "print(integrate.quad(lambda t: arg(t), 0, np.pi/4.))\n",
    "fr = 2*rx**2 + rx*ry\n",
    "arg = lambdify(t, fr*norm_r)\n",
    "print(integrate.quad(lambda t: arg(t), np.pi, np.pi+ np.pi/4.))\n"
   ]
  }
 ],
 "metadata": {
  "kernelspec": {
   "display_name": "fenicsx-env",
   "language": "python",
   "name": "python3"
  },
  "language_info": {
   "codemirror_mode": {
    "name": "ipython",
    "version": 3
   },
   "file_extension": ".py",
   "mimetype": "text/x-python",
   "name": "python",
   "nbconvert_exporter": "python",
   "pygments_lexer": "ipython3",
   "version": "3.11.10"
  }
 },
 "nbformat": 4,
 "nbformat_minor": 4
}
