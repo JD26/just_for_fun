{
 "cells": [
  {
   "cell_type": "markdown",
   "metadata": {},
   "source": [
    "# Calculations"
   ]
  },
  {
   "cell_type": "code",
   "execution_count": 2,
   "metadata": {},
   "outputs": [],
   "source": [
    "import sympy as sp\n",
    "sp.init_printing()"
   ]
  },
  {
   "cell_type": "markdown",
   "metadata": {},
   "source": [
    "## transport_equation"
   ]
  },
  {
   "cell_type": "code",
   "execution_count": 4,
   "metadata": {},
   "outputs": [
    {
     "data": {
      "image/png": "[encoded data removed]",
      "text/latex": [
       "$\\displaystyle 2 \\alpha x y + \\beta - 2 x y$"
      ],
      "text/plain": [
       "2⋅α⋅x⋅y + β - 2⋅x⋅y"
      ]
     },
     "execution_count": 4,
     "metadata": {},
     "output_type": "execute_result"
    }
   ],
   "source": [
    "x, y, alpha, beta, t = sp.symbols('x y alpha beta t')\n",
    "\n",
    "# test function\n",
    "phi = 1 + x**2 + alpha * y**2 + beta * t\n",
    "\n",
    "phi_t = sp.diff(phi, t)\n",
    "phi_x = sp.diff(phi, x)\n",
    "phi_y = sp.diff(phi, y)\n",
    "\n",
    "# equation \\phi + \\theta \\cdot \\nabla \\phi\n",
    "# \\theta (x,y) = (-y,x)\n",
    "f = phi_t + (-y)*phi_x + x*phi_y\n",
    "f"
   ]
  }
 ],
 "metadata": {
  "kernelspec": {
   "display_name": "fenicsx-env",
   "language": "python",
   "name": "python3"
  },
  "language_info": {
   "codemirror_mode": {
    "name": "ipython",
    "version": 3
   },
   "file_extension": ".py",
   "mimetype": "text/x-python",
   "name": "python",
   "nbconvert_exporter": "python",
   "pygments_lexer": "ipython3",
   "version": "3.11.10"
  }
 },
 "nbformat": 4,
 "nbformat_minor": 4
}
